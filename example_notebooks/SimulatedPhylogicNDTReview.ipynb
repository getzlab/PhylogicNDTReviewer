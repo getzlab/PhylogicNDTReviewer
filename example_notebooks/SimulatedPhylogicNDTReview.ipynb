{
 "cells": [
  {
   "cell_type": "markdown",
   "id": "aa689e8c-770e-4205-9c5c-aae4eeb48b60",
   "metadata": {},
   "source": [
    "# Simulated Data PhylogicNDT Reviewer"
   ]
  },
  {
   "cell_type": "code",
   "execution_count": 2,
   "id": "2111dffe-a1a8-491f-9059-304d814d0231",
   "metadata": {},
   "outputs": [],
   "source": [
    "%load_ext autoreload\n",
    "%autoreload 2"
   ]
  },
  {
   "cell_type": "code",
   "execution_count": 15,
   "id": "9450b50f-6b4c-4ef6-b18b-ddf421179540",
   "metadata": {},
   "outputs": [],
   "source": [
    "from PhylogicNDTReviewer.Reviewers.PhylogicNDTReviewer import PhylogicNDTReviewer\n",
    "\n",
    "import pandas as pd\n",
    "from dash import html\n",
    "import dalmatian\n",
    "import pickle"
   ]
  },
  {
   "cell_type": "code",
   "execution_count": 21,
   "id": "191ccdba-4898-4cba-a351-a360b7fb6f68",
   "metadata": {},
   "outputs": [],
   "source": [
    "import os\n",
    "import sys\n",
    "module_path = os.path.abspath(os.path.join('../../SimulatedTumorData/src')) \n",
    "sys.path.insert(0, module_path)"
   ]
  },
  {
   "cell_type": "code",
   "execution_count": 22,
   "id": "f4e1430c-42e1-4c53-a181-54095269b355",
   "metadata": {},
   "outputs": [
    {
     "name": "stdout",
     "output_type": "stream",
     "text": [
      "loading existing CNV pickle file ../../SimulatedTumorData/sim_data/patient1/patient1.cnv_events.pkl\n",
      "../../SimulatedTumorData/sim_data/patient1/sample_coverage/t1.binned_coverage.tsv already exists.\n",
      "../../SimulatedTumorData/sim_data/patient1/sample_coverage/t2.binned_coverage.tsv already exists.\n",
      "../../SimulatedTumorData/sim_data/patient1/sample_coverage/t3.binned_coverage.tsv already exists.\n",
      "patient variants path exists: ../../SimulatedTumorData/sim_data/patient1/patient1.variants.tsv\n",
      "Sample t1 has variants_fn: ../../SimulatedTumorData/sim_data/patient1/sample_muts/t1.variants.tsv\n",
      "Sample t2 has variants_fn: ../../SimulatedTumorData/sim_data/patient1/sample_muts/t2.variants.tsv\n",
      "Sample t3 has variants_fn: ../../SimulatedTumorData/sim_data/patient1/sample_muts/t3.variants.tsv\n",
      "Generated sif file: ../../SimulatedTumorData/sim_data/patient1/patient1.phylogicNDT.sif\n",
      "PhylogicNDT results are already loaded here: ../../SimulatedTumorData/sim_data/patient1/phylogicNDT_results\n",
      "Generated patient_reviewer_sample_data_fn: ../../SimulatedTumorData/sim_data/patient1/patient_reviewer_data/patient1_samples_data.tsv\n",
      "Generated patient_reviewer_patient_data_fn: ../../SimulatedTumorData/sim_data/patient1/patient_reviewer_data/patient1_data.tsv\n",
      "loading existing CNV pickle file ../../SimulatedTumorData/sim_data/patient2/patient2.cnv_events.pkl\n",
      "../../SimulatedTumorData/sim_data/patient2/sample_coverage/t1.binned_coverage.tsv already exists.\n",
      "../../SimulatedTumorData/sim_data/patient2/sample_coverage/t2.binned_coverage.tsv already exists.\n",
      "../../SimulatedTumorData/sim_data/patient2/sample_coverage/t3.binned_coverage.tsv already exists.\n",
      "patient variants path exists: ../../SimulatedTumorData/sim_data/patient2/patient2.variants.tsv\n",
      "Sample t1 has variants_fn: ../../SimulatedTumorData/sim_data/patient2/sample_muts/t1.variants.tsv\n",
      "Sample t2 has variants_fn: ../../SimulatedTumorData/sim_data/patient2/sample_muts/t2.variants.tsv\n",
      "Sample t3 has variants_fn: ../../SimulatedTumorData/sim_data/patient2/sample_muts/t3.variants.tsv\n",
      "Generated sif file: ../../SimulatedTumorData/sim_data/patient2/patient2.phylogicNDT.sif\n",
      "PhylogicNDT results are already loaded here: ../../SimulatedTumorData/sim_data/patient2/phylogicNDT_results\n",
      "Generated patient_reviewer_sample_data_fn: ../../SimulatedTumorData/sim_data/patient2/patient_reviewer_data/patient1_samples_data.tsv\n",
      "Generated patient_reviewer_patient_data_fn: ../../SimulatedTumorData/sim_data/patient2/patient_reviewer_data/patient1_data.tsv\n"
     ]
    }
   ],
   "source": [
    "def load_patient_pkl_fn(pkl_fn):\n",
    "    with open(pkl_fn, 'rb') as fh:\n",
    "        patient = pickle.load(fh)\n",
    "\n",
    "    patient.data_directory = pkl_fn.rsplit('/', 1)[0]\n",
    "    patient.set_all_data()\n",
    "    return patient\n",
    "\n",
    "path_to_sim_data = '../../SimulatedTumorData/sim_data'\n",
    "patient_names = ['patient1', 'patient2'] # or pass in list of patients from patients_pkl_fn\n",
    "loaded_patients = [\n",
    "    load_patient_pkl_fn(f'{path_to_sim_data}/{patient_name}/{patient_name}.pkl') for patient_name in patient_names\n",
    "]"
   ]
  },
  {
   "cell_type": "code",
   "execution_count": 34,
   "id": "464dc614-3bdd-40a3-a056-3c92969b518e",
   "metadata": {},
   "outputs": [],
   "source": [
    "samples = pd.read_csv(loaded_patients[0].patient_reviewer_sample_data_fn, sep='\\t', index_col='sample_id')\n",
    "participant = pd.read_csv(loaded_patients[0].patient_reviewer_patient_data_fn, sep='\\t', index_col='participant_id')"
   ]
  },
  {
   "cell_type": "code",
   "execution_count": 58,
   "id": "8a6b76fb-0a9d-42d1-a728-f0689411716a",
   "metadata": {},
   "outputs": [],
   "source": [
    "reviewer = PhylogicNDTReviewer()\n",
    "\n",
    "reviewer.set_review_data(\n",
    "    # Enter the file path where you would like your pkl file of your review data to be stored\n",
    "    data_pkl_fn='../phylogicNDT_review.pkl',\n",
    "    # Breifly describe the source of your data and its purpose\n",
    "    description='PhylogicNDT review',\n",
    "    # Reference dataframes and directory from above\n",
    "    participant_df=participant,\n",
    "    sample_df=samples,\n",
    ")\n",
    "\n",
    "# Enter optional driver genes file path (text file with Hugo Symbols in one column)\n",
    "reviewer.set_review_app()\n",
    "reviewer.set_default_review_data_annotations_configuration()"
   ]
  },
  {
   "cell_type": "code",
   "execution_count": 59,
   "id": "86dc50bd-4a6e-4fe7-adf7-6d3aaa7d4c55",
   "metadata": {},
   "outputs": [
    {
     "name": "stdout",
     "output_type": "stream",
     "text": [
      "Setting auto_export_path to ../phylogicNDT_review.auto_export\n",
      "Using ../phylogicNDT_review.auto_export for auto exporting.\n",
      "Dash app running on http://0.0.0.0:8081/\n"
     ]
    },
    {
     "name": "stderr",
     "output_type": "stream",
     "text": [
      "/Users/svansete/Code/getzlab/AnnoMate/AnnoMate/AppComponents/MutationTableComponent.py:417: SettingWithCopyWarning:\n",
      "\n",
      "\n",
      "A value is trying to be set on a copy of a slice from a DataFrame\n",
      "\n",
      "See the caveats in the documentation: https://pandas.pydata.org/pandas-docs/stable/user_guide/indexing.html#returning-a-view-versus-a-copy\n",
      "\n",
      "/Users/svansete/Code/getzlab/AnnoMate/AnnoMate/AppComponents/MutationTableComponent.py:418: SettingWithCopyWarning:\n",
      "\n",
      "\n",
      "A value is trying to be set on a copy of a slice from a DataFrame.\n",
      "Try using .loc[row_indexer,col_indexer] = value instead\n",
      "\n",
      "See the caveats in the documentation: https://pandas.pydata.org/pandas-docs/stable/user_guide/indexing.html#returning-a-view-versus-a-copy\n",
      "\n",
      "/Users/svansete/Code/getzlab/AnnoMate/AnnoMate/AppComponents/MutationTableComponent.py:417: SettingWithCopyWarning:\n",
      "\n",
      "\n",
      "A value is trying to be set on a copy of a slice from a DataFrame\n",
      "\n",
      "See the caveats in the documentation: https://pandas.pydata.org/pandas-docs/stable/user_guide/indexing.html#returning-a-view-versus-a-copy\n",
      "\n",
      "/Users/svansete/Code/getzlab/AnnoMate/AnnoMate/AppComponents/MutationTableComponent.py:418: SettingWithCopyWarning:\n",
      "\n",
      "\n",
      "A value is trying to be set on a copy of a slice from a DataFrame.\n",
      "Try using .loc[row_indexer,col_indexer] = value instead\n",
      "\n",
      "See the caveats in the documentation: https://pandas.pydata.org/pandas-docs/stable/user_guide/indexing.html#returning-a-view-versus-a-copy\n",
      "\n",
      "/Users/svansete/Code/getzlab/AnnoMate/AnnoMate/AppComponents/MutationTableComponent.py:417: SettingWithCopyWarning:\n",
      "\n",
      "\n",
      "A value is trying to be set on a copy of a slice from a DataFrame\n",
      "\n",
      "See the caveats in the documentation: https://pandas.pydata.org/pandas-docs/stable/user_guide/indexing.html#returning-a-view-versus-a-copy\n",
      "\n",
      "/Users/svansete/Code/getzlab/AnnoMate/AnnoMate/AppComponents/MutationTableComponent.py:418: SettingWithCopyWarning:\n",
      "\n",
      "\n",
      "A value is trying to be set on a copy of a slice from a DataFrame.\n",
      "Try using .loc[row_indexer,col_indexer] = value instead\n",
      "\n",
      "See the caveats in the documentation: https://pandas.pydata.org/pandas-docs/stable/user_guide/indexing.html#returning-a-view-versus-a-copy\n",
      "\n"
     ]
    }
   ],
   "source": [
    "reviewer.run(mode='external', port=8081)"
   ]
  },
  {
   "cell_type": "code",
   "execution_count": null,
   "id": "b774c894-e840-4d10-a796-6a21eab3ef27",
   "metadata": {},
   "outputs": [],
   "source": []
  },
  {
   "cell_type": "code",
   "execution_count": null,
   "id": "a3fe76d3-15f0-4903-a29d-5ecd1b5c2c23",
   "metadata": {},
   "outputs": [],
   "source": []
  }
 ],
 "metadata": {
  "kernelspec": {
   "display_name": "Python 3 (ipykernel)",
   "language": "python",
   "name": "python3"
  },
  "language_info": {
   "codemirror_mode": {
    "name": "ipython",
    "version": 3
   },
   "file_extension": ".py",
   "mimetype": "text/x-python",
   "name": "python",
   "nbconvert_exporter": "python",
   "pygments_lexer": "ipython3",
   "version": "3.9.6"
  }
 },
 "nbformat": 4,
 "nbformat_minor": 5
}
